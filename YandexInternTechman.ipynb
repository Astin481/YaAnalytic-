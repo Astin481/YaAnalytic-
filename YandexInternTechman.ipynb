{
 "cells": [
  {
   "cell_type": "code",
   "execution_count": 44,
   "metadata": {},
   "outputs": [],
   "source": [
    "import pandas as pd\n",
    "import numpy as np\n",
    "import datetime\n",
    "from datetime import datetime, date\n",
    "import matplotlib.pyplot as plt\n",
    "%matplotlib inline"
   ]
  },
  {
   "cell_type": "code",
   "execution_count": 45,
   "metadata": {},
   "outputs": [],
   "source": [
    "pd.set_option('display.notebook_repr_html', True)\n",
    "pd.set_option('display.max_columns', 12)\n",
    "pd.set_option('display.max_rows', 15)\n",
    "pd.set_option('display.width', 80)"
   ]
  },
  {
   "cell_type": "markdown",
   "metadata": {},
   "source": [
    "# Задание № 1\n",
    "Имеется файл с различными оценками асессоров. Формат файла: login tuid docid jud cjud\n",
    "\n",
    "Пояснение к формату:\n",
    "- login — логин асессора;\n",
    "- uid — id асессора (user id);\n",
    "- docid — id оцениваемого документа (document id);\n",
    "- jud — оценка асессора (judgement);\n",
    "- cjud — правильная оценка (correct judgement);\n",
    "- разделитель — табуляция \\t.\n",
    "\n",
    "Оценки могут принимать значение [0, 1], т.е. задание, которое сделали асессоры, имеет бинарную шкалу. Используя данные об оценках, установите, **какие асессоры хуже всего справились с заданием**. На какие показатели вы ориентировались и какие метрики вы использовали для ответа на этот вопрос? Можно ли предложить какие-то новые метрики для подсчета качества асессоров с учетом природы оценок у этого бинарного задания? Опишите подробно все этапы вашего решения."
   ]
  },
  {
   "cell_type": "markdown",
   "metadata": {},
   "source": [
    "## Read csv"
   ]
  },
  {
   "cell_type": "code",
   "execution_count": 46,
   "metadata": {},
   "outputs": [
    {
     "name": "stdout",
     "output_type": "stream",
     "text": [
      "\n",
      " Названия столбцов:  Index(['login', 'docid', 'jud', 'cjud'], dtype='object') \n",
      "\n",
      "Таблица без колонки login:  \n",
      "\n",
      "      docid  jud  cjud\n",
      "uid                  \n",
      "158      0    0     0\n",
      "238      0    0     0\n",
      "488      0    0     0\n",
      "136      0    0     0\n",
      "300      0    0     0\n",
      "123      1    1     1\n",
      "491      1    0     1\n",
      "..     ...  ...   ...\n",
      "423  49998    0     0\n",
      "100  49998    1     0\n",
      "208  49999    1     1\n",
      "139  49999    1     1\n",
      "333  49999    1     1\n",
      "160  49999    1     1\n",
      "175  49999    1     1\n",
      "\n",
      "[250000 rows x 3 columns]\n"
     ]
    }
   ],
   "source": [
    "df1 = pd.read_csv('data_task3.csv', '\\t', index_col='uid')\n",
    "\n",
    "print('\\n', 'Названия столбцов: ', df1.columns, '\\n')\n",
    "print('Таблица без колонки login: ', '\\n\\n',df1[['docid', 'jud', 'cjud']])"
   ]
  },
  {
   "cell_type": "markdown",
   "metadata": {},
   "source": [
    "# Задание № 2\n",
    "Имеется файл с временной статистикой работы асессоров над однотипным заданием.\n",
    "\n",
    "Формат файла: login tid Microtasks assigned_ts tclosed_ts\n",
    "\n",
    "Пояснение к формату:\n",
    "- login — логин асессора;\n",
    "- tid — id оцениваемого задания (task id);\n",
    "- Microtasks – количество микрозаданий в одном задании;\n",
    "- assigned_ts — время резервирования системой задания для асессора;\n",
    "- closed_ts — точное время завершения работы над заданием;\n",
    "\n",
    "разделитель — табуляция \\t.\n",
    "\n",
    "Задание может состоять из одного или несколько микрозаданий. **Время резервирования задания** (assigned_ts) указывает на тот момент, когда система назначила определенного асессора исполнителем этого задания. Этот момент может совпадать с временем начала работы асессора над заданием, а может и не совпадать (асессор может отойти выпить чаю, а потом приступить к заданию, асессор может выполнять предыдущее задание, в то время как за ним зарезервированы новые). Предположим, что асессор за 30 секунд своего рабочего времени получает N рублей. **Какую оплату вы считаете справедливой для выполнения асессором одного микрозадания** из этого файла? Опишите подробно все этапы вашего решения."
   ]
  },
  {
   "cell_type": "markdown",
   "metadata": {},
   "source": [
    "## Read csv"
   ]
  },
  {
   "cell_type": "code",
   "execution_count": 47,
   "metadata": {},
   "outputs": [
    {
     "name": "stdout",
     "output_type": "stream",
     "text": [
      "\n",
      " Названия столбцов:  Index(['tid', 'Microtasks', 'assigned_ts', 'closed_ts'], dtype='object') \n",
      "\n",
      "                  tid  Microtasks          assigned_ts            closed_ts\n",
      "login                                                                      \n",
      "login0    190563850.0         4.0  2017-04-20 12:09:39  2017-04-20 13:13:01\n",
      "login0    190561754.0         1.0  2017-04-20 12:10:30  2017-04-20 12:28:29\n",
      "login0    190565906.0         4.0  2017-04-20 12:21:31  2017-04-20 13:30:10\n",
      "login0    190560246.0         1.0  2017-04-20 12:28:30  2017-04-20 13:13:56\n",
      "login0    190562168.0         2.0  2017-04-20 12:28:42  2017-04-20 13:14:50\n",
      "login0    190560934.0         1.0  2017-04-20 12:28:53  2017-04-20 13:15:23\n",
      "login0    190563590.0         1.0  2017-04-20 12:29:06  2017-04-20 13:15:36\n",
      "...               ...         ...                  ...                  ...\n",
      "login766  195656414.0         3.0  2017-05-15 15:53:13  2017-05-15 16:34:37\n",
      "login766  195655974.0         3.0  2017-05-15 15:53:21  2017-05-15 16:07:09\n",
      "login766  195656026.0         1.0  2017-05-15 15:53:27  2017-05-15 16:16:56\n",
      "login766  195656174.0         1.0  2017-05-15 15:53:33  2017-05-15 16:21:53\n",
      "login766  195656466.0         1.0  2017-05-15 15:53:38  2017-05-15 16:23:41\n",
      "login766  195656336.0         3.0  2017-05-15 15:54:18  2017-05-15 16:32:11\n",
      "login766  195656078.0         2.0  2017-05-15 15:54:59  2017-05-15 16:17:32\n",
      "\n",
      "[701827 rows x 4 columns]\n"
     ]
    }
   ],
   "source": [
    "df2 = pd.read_csv('data_task4_old.txt', '\\t', index_col='login')\n",
    "\n",
    "print('\\n', 'Названия столбцов: ', df2.columns, '\\n')\n",
    "print(df2)"
   ]
  },
  {
   "cell_type": "code",
   "execution_count": null,
   "metadata": {},
   "outputs": [],
   "source": []
  }
 ],
 "metadata": {
  "kernelspec": {
   "display_name": "Python 3",
   "language": "python",
   "name": "python3"
  },
  "language_info": {
   "codemirror_mode": {
    "name": "ipython",
    "version": 3
   },
   "file_extension": ".py",
   "mimetype": "text/x-python",
   "name": "python",
   "nbconvert_exporter": "python",
   "pygments_lexer": "ipython3",
   "version": "3.7.2"
  }
 },
 "nbformat": 4,
 "nbformat_minor": 2
}
